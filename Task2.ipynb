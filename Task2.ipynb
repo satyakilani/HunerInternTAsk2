{
 "cells": [
  {
   "cell_type": "markdown",
   "id": "91cc6f6b-bc3b-45c7-8819-6bf1680b4d5a",
   "metadata": {},
   "source": [
    "# Importing all the required libraries\n",
    "Pandas: Pandas is a powerful data analysis and manipulation library in Python, providing data structures and tools for working with structured data.\n",
    "\n",
    "NumPy: NumPy is a fundamental package for scientific computing with Python. It provides support for large, multi-dimensional arrays and matrices, along with a collection of mathematical functions to operate on these arrays.\n",
    "\n",
    "scikit-learn: scikit-learn is a machine learning library in Python that provides simple and efficient tools for data mining and data analysis. It features various classification, regression, and clustering algorithms, along with tools for model selection and evaluation.\n",
    "\n",
    "LabelEncoder: LabelEncoder is a utility class from scikit-learn for encoding categorical features into numeric values suitable for machine learning algorithms.\n",
    "\n",
    "train_test_split: train_test_split is a function from scikit-learn that splits datasets into training and testing subsets, which is essential for evaluating model performance.\n",
    "\n",
    "LinearRegression: LinearRegression is a class from scikit-learn used to fit a linear regression model and make predictions.\n",
    "\n",
    "mean_squared_error: mean_squared_error is a metric from scikit-learn for evaluating the mean squared error between actual and predicted values in regression tasks.\n",
    "\n",
    "r2_score: r2_score is a metric from scikit-learn for evaluating the goodness of fit of a regression model, providing the R-squared coefficient."
   ]
  },
  {
   "cell_type": "code",
   "execution_count": 159,
   "id": "9bbf9bff-87f4-4ace-8e53-10624b1449c7",
   "metadata": {},
   "outputs": [],
   "source": [
    "import pandas as pd\n",
    "import numpy as np\n",
    "from sklearn.preprocessing import LabelEncoder\n",
    "from sklearn.model_selection import train_test_split\n",
    "from sklearn.linear_model import LinearRegression\n",
    "from sklearn.metrics import mean_squared_error, r2_score\n"
   ]
  },
  {
   "cell_type": "markdown",
   "id": "015dc659-a129-4953-bbb9-837ba091ff93",
   "metadata": {},
   "source": [
    "# Load And Read The Dataset\n",
    "This code reads the CSV file into a DataFrame df and checks for the total number of missing values (NaN) in the entire dataset.\n",
    "\n",
    "The info() method provides a concise summary of the DataFrame, including the number of non-null values in each column and the data types."
   ]
  },
  {
   "cell_type": "code",
   "execution_count": 160,
   "id": "01908255-f5e5-4080-882d-2f690aed6e82",
   "metadata": {},
   "outputs": [
    {
     "name": "stdout",
     "output_type": "stream",
     "text": [
      "<class 'pandas.core.frame.DataFrame'>\n",
      "RangeIndex: 4600 entries, 0 to 4599\n",
      "Data columns (total 18 columns):\n",
      " #   Column         Non-Null Count  Dtype  \n",
      "---  ------         --------------  -----  \n",
      " 0   date           4600 non-null   object \n",
      " 1   price          4600 non-null   float64\n",
      " 2   bedrooms       4600 non-null   float64\n",
      " 3   bathrooms      4600 non-null   float64\n",
      " 4   sqft_living    4600 non-null   int64  \n",
      " 5   sqft_lot       4600 non-null   int64  \n",
      " 6   floors         4600 non-null   float64\n",
      " 7   waterfront     4600 non-null   int64  \n",
      " 8   view           4600 non-null   int64  \n",
      " 9   condition      4600 non-null   int64  \n",
      " 10  sqft_above     4600 non-null   int64  \n",
      " 11  sqft_basement  4600 non-null   int64  \n",
      " 12  yr_built       4600 non-null   int64  \n",
      " 13  yr_renovated   4600 non-null   int64  \n",
      " 14  street         4600 non-null   object \n",
      " 15  city           4600 non-null   object \n",
      " 16  statezip       4600 non-null   object \n",
      " 17  country        4600 non-null   object \n",
      "dtypes: float64(4), int64(9), object(5)\n",
      "memory usage: 647.0+ KB\n"
     ]
    }
   ],
   "source": [
    "df=pd.read_csv(r\"C:\\Users\\Satya Kilani\\OneDrive\\Documents\\hunarintern\\task2\\house price data.csv\")\n",
    "df.isna().sum().sum()\n",
    "df.info()"
   ]
  },
  {
   "cell_type": "markdown",
   "id": "b3156d30-d2b7-4c03-a3b5-428ead15decf",
   "metadata": {},
   "source": [
    "# Checking for duplicate rows and columns\n",
    "Our code snippet effectively checks for duplicate rows and duplicate columns in your DataFrame. Here's a breakdown of what each part does:"
   ]
  },
  {
   "cell_type": "code",
   "execution_count": 161,
   "id": "585ee26d-ff09-404b-a814-47f68bc02997",
   "metadata": {},
   "outputs": [
    {
     "name": "stdout",
     "output_type": "stream",
     "text": [
      "No duplicate rows found.\n",
      "No duplicate columns found.\n"
     ]
    }
   ],
   "source": [
    "duplicate_rows = df[df.duplicated()]\n",
    "if not duplicate_rows.empty:\n",
    "    print(\"Duplicate rows found:\")\n",
    "    print(duplicate_rows)\n",
    "else:\n",
    "    print(\"No duplicate rows found.\")\n",
    "duplicates = df.columns[df.columns.duplicated()]\n",
    "if len(duplicates) > 0:\n",
    "    print(\"Duplicate columns found:\")\n",
    "    print(duplicates)\n",
    "else:\n",
    "    print(\"No duplicate columns found.\")"
   ]
  },
  {
   "cell_type": "markdown",
   "id": "9a0db5b6-7fae-4d45-8931-8989f6600eb4",
   "metadata": {},
   "source": [
    "# Removing the Irrelevent columns\n"
   ]
  },
  {
   "cell_type": "code",
   "execution_count": 162,
   "id": "a8e53a3e-a02c-4519-8344-76d1e21091dc",
   "metadata": {},
   "outputs": [
    {
     "name": "stdout",
     "output_type": "stream",
     "text": [
      "<class 'pandas.core.frame.DataFrame'>\n",
      "RangeIndex: 4600 entries, 0 to 4599\n",
      "Data columns (total 15 columns):\n",
      " #   Column         Non-Null Count  Dtype  \n",
      "---  ------         --------------  -----  \n",
      " 0   price          4600 non-null   float64\n",
      " 1   bedrooms       4600 non-null   float64\n",
      " 2   bathrooms      4600 non-null   float64\n",
      " 3   sqft_living    4600 non-null   int64  \n",
      " 4   sqft_lot       4600 non-null   int64  \n",
      " 5   floors         4600 non-null   float64\n",
      " 6   view           4600 non-null   int64  \n",
      " 7   condition      4600 non-null   int64  \n",
      " 8   sqft_above     4600 non-null   int64  \n",
      " 9   sqft_basement  4600 non-null   int64  \n",
      " 10  yr_built       4600 non-null   int64  \n",
      " 11  yr_renovated   4600 non-null   int64  \n",
      " 12  street         4600 non-null   object \n",
      " 13  city           4600 non-null   object \n",
      " 14  statezip       4600 non-null   object \n",
      "dtypes: float64(4), int64(8), object(3)\n",
      "memory usage: 539.2+ KB\n"
     ]
    }
   ],
   "source": [
    "irrelevent=['date','waterfront','country']\n",
    "df_irr=df.drop(columns=irrelevent)\n",
    "df_irr.info()\n"
   ]
  },
  {
   "cell_type": "markdown",
   "id": "67d23dbb-2679-4196-88a4-9a42c261c3c2",
   "metadata": {},
   "source": [
    "# To check the total number of missing values (NaN) in your modified DataFrame df_irr\n",
    "This code snippet calculates the sum of missing values across all columns in df_irr. It's useful for verifying if there are any missing values remaining after removing the irrelevant columns ('date', 'waterfront', 'country').\n",
    "Here we are having \"0\" NAN values"
   ]
  },
  {
   "cell_type": "code",
   "execution_count": 163,
   "id": "f428af66-b597-4e7d-936e-a1b0fbcca0a0",
   "metadata": {},
   "outputs": [
    {
     "data": {
      "text/plain": [
       "0"
      ]
     },
     "execution_count": 163,
     "metadata": {},
     "output_type": "execute_result"
    }
   ],
   "source": [
    "df_irr.isna().sum().sum()"
   ]
  },
  {
   "cell_type": "markdown",
   "id": "4baeb7ed-38b2-4f79-983e-887b539bb83c",
   "metadata": {},
   "source": [
    "# Using LabelEncoder for categorical variables\n",
    "Our code snippet demonstrates how to use LabelEncoder from scikit-learn to encode categorical variables into numeric labels in your DataFrame df_irr. However, there's a more efficient and systematic way to apply LabelEncoder to multiple categorical columns"
   ]
  },
  {
   "cell_type": "code",
   "execution_count": 164,
   "id": "f3a6bfaf-07f0-4e19-a404-250234195785",
   "metadata": {},
   "outputs": [],
   "source": [
    "# label encoder for street \n",
    "le = LabelEncoder()\n",
    "df_irr['street_label'] = le.fit_transform(df_irr['street'])\n",
    "df_irr['street']=df_irr['street_label']\n",
    "df_irr.drop(columns=['street_label'],axis='1',inplace=True)\n",
    "\n",
    "#labelencode for statezip \n",
    "\n",
    "df_irr['statezip_label']=le.fit_transform(df_irr['statezip'])\n",
    "df_irr['statezip']=df_irr['statezip_label']\n",
    "df_irr.drop(columns=['statezip_label'],axis='1',inplace=True)\n",
    "\n",
    "#label encode for city\n",
    "df_irr['city_label']=le.fit_transform(df_irr['city'])\n",
    "df_irr['city']=df_irr['city_label']\n",
    "df_irr.drop(columns=['city_label'],axis='1',inplace=True)\n"
   ]
  },
  {
   "cell_type": "code",
   "execution_count": 165,
   "id": "d5e0b6a5-1fd3-4764-91b1-ed72b8c92465",
   "metadata": {},
   "outputs": [
    {
     "data": {
      "text/plain": [
       "(4600, 15)"
      ]
     },
     "execution_count": 165,
     "metadata": {},
     "output_type": "execute_result"
    }
   ],
   "source": [
    "df_irr.shape"
   ]
  },
  {
   "cell_type": "markdown",
   "id": "67c7d8dc-4c10-43b4-a08e-ff717aac36cc",
   "metadata": {},
   "source": [
    "# Removing the outliers using Z-SCORE\n",
    "Our function remove_outliers is designed to remove outliers from a DataFrame df_irr using the Z-score method."
   ]
  },
  {
   "cell_type": "code",
   "execution_count": 166,
   "id": "04f2a11f-77db-45d4-aaab-94f94ec77ab9",
   "metadata": {},
   "outputs": [
    {
     "name": "stdout",
     "output_type": "stream",
     "text": [
      "Original data shape: (4600, 15)\n",
      "Cleaned data shape: (4241, 15)\n"
     ]
    }
   ],
   "source": [
    "def remove_outliers(df_irr, threshold=3):\n",
    "    z_scores = np.abs((df_irr - df_irr.mean()) / df_irr.std())\n",
    "    return df_irr[(z_scores < threshold).all(axis=1)]\n",
    "\n",
    "# Remove outliers from the entire dataset\n",
    "data_no_outliers = remove_outliers(df_irr)\n",
    "\n",
    "# Check the shape of the original and cleaned datasets\n",
    "print(f\"Original data shape: {df_irr.shape}\")\n",
    "print(f\"Cleaned data shape: {data_no_outliers.shape}\")\n"
   ]
  },
  {
   "cell_type": "markdown",
   "id": "c70d5886-019f-4aee-99c6-811553aee0fc",
   "metadata": {},
   "source": [
    "# Separate independent variables (features) and dependent variable (target)"
   ]
  },
  {
   "cell_type": "code",
   "execution_count": 167,
   "id": "7502a513-bdd0-48be-ab77-491cba548eaa",
   "metadata": {},
   "outputs": [],
   "source": [
    "x=data_no_outliers.drop(columns=['price'],axis='1')\n",
    "y=data_no_outliers['price']"
   ]
  },
  {
   "cell_type": "code",
   "execution_count": 168,
   "id": "76f99bf8-c77e-465e-a639-91fcc11a7300",
   "metadata": {},
   "outputs": [
    {
     "data": {
      "text/html": [
       "<div>\n",
       "<style scoped>\n",
       "    .dataframe tbody tr th:only-of-type {\n",
       "        vertical-align: middle;\n",
       "    }\n",
       "\n",
       "    .dataframe tbody tr th {\n",
       "        vertical-align: top;\n",
       "    }\n",
       "\n",
       "    .dataframe thead th {\n",
       "        text-align: right;\n",
       "    }\n",
       "</style>\n",
       "<table border=\"1\" class=\"dataframe\">\n",
       "  <thead>\n",
       "    <tr style=\"text-align: right;\">\n",
       "      <th></th>\n",
       "      <th>bedrooms</th>\n",
       "      <th>bathrooms</th>\n",
       "      <th>sqft_living</th>\n",
       "      <th>sqft_lot</th>\n",
       "      <th>floors</th>\n",
       "      <th>view</th>\n",
       "      <th>condition</th>\n",
       "      <th>sqft_above</th>\n",
       "      <th>sqft_basement</th>\n",
       "      <th>yr_built</th>\n",
       "      <th>yr_renovated</th>\n",
       "      <th>street</th>\n",
       "      <th>city</th>\n",
       "      <th>statezip</th>\n",
       "    </tr>\n",
       "  </thead>\n",
       "  <tbody>\n",
       "    <tr>\n",
       "      <th>0</th>\n",
       "      <td>3.0</td>\n",
       "      <td>1.50</td>\n",
       "      <td>1340</td>\n",
       "      <td>7912</td>\n",
       "      <td>1.5</td>\n",
       "      <td>0</td>\n",
       "      <td>3</td>\n",
       "      <td>1340</td>\n",
       "      <td>0</td>\n",
       "      <td>1955</td>\n",
       "      <td>2005</td>\n",
       "      <td>1522</td>\n",
       "      <td>36</td>\n",
       "      <td>62</td>\n",
       "    </tr>\n",
       "    <tr>\n",
       "      <th>2</th>\n",
       "      <td>3.0</td>\n",
       "      <td>2.00</td>\n",
       "      <td>1930</td>\n",
       "      <td>11947</td>\n",
       "      <td>1.0</td>\n",
       "      <td>0</td>\n",
       "      <td>4</td>\n",
       "      <td>1930</td>\n",
       "      <td>0</td>\n",
       "      <td>1966</td>\n",
       "      <td>0</td>\n",
       "      <td>2291</td>\n",
       "      <td>18</td>\n",
       "      <td>26</td>\n",
       "    </tr>\n",
       "    <tr>\n",
       "      <th>3</th>\n",
       "      <td>3.0</td>\n",
       "      <td>2.25</td>\n",
       "      <td>2000</td>\n",
       "      <td>8030</td>\n",
       "      <td>1.0</td>\n",
       "      <td>0</td>\n",
       "      <td>4</td>\n",
       "      <td>1000</td>\n",
       "      <td>1000</td>\n",
       "      <td>1963</td>\n",
       "      <td>0</td>\n",
       "      <td>4263</td>\n",
       "      <td>3</td>\n",
       "      <td>7</td>\n",
       "    </tr>\n",
       "    <tr>\n",
       "      <th>4</th>\n",
       "      <td>4.0</td>\n",
       "      <td>2.50</td>\n",
       "      <td>1940</td>\n",
       "      <td>10500</td>\n",
       "      <td>1.0</td>\n",
       "      <td>0</td>\n",
       "      <td>4</td>\n",
       "      <td>1140</td>\n",
       "      <td>800</td>\n",
       "      <td>1976</td>\n",
       "      <td>1992</td>\n",
       "      <td>4352</td>\n",
       "      <td>31</td>\n",
       "      <td>31</td>\n",
       "    </tr>\n",
       "    <tr>\n",
       "      <th>5</th>\n",
       "      <td>2.0</td>\n",
       "      <td>1.00</td>\n",
       "      <td>880</td>\n",
       "      <td>6380</td>\n",
       "      <td>1.0</td>\n",
       "      <td>0</td>\n",
       "      <td>3</td>\n",
       "      <td>880</td>\n",
       "      <td>0</td>\n",
       "      <td>1938</td>\n",
       "      <td>1994</td>\n",
       "      <td>3521</td>\n",
       "      <td>35</td>\n",
       "      <td>54</td>\n",
       "    </tr>\n",
       "    <tr>\n",
       "      <th>...</th>\n",
       "      <td>...</td>\n",
       "      <td>...</td>\n",
       "      <td>...</td>\n",
       "      <td>...</td>\n",
       "      <td>...</td>\n",
       "      <td>...</td>\n",
       "      <td>...</td>\n",
       "      <td>...</td>\n",
       "      <td>...</td>\n",
       "      <td>...</td>\n",
       "      <td>...</td>\n",
       "      <td>...</td>\n",
       "      <td>...</td>\n",
       "      <td>...</td>\n",
       "    </tr>\n",
       "    <tr>\n",
       "      <th>4595</th>\n",
       "      <td>3.0</td>\n",
       "      <td>1.75</td>\n",
       "      <td>1510</td>\n",
       "      <td>6360</td>\n",
       "      <td>1.0</td>\n",
       "      <td>0</td>\n",
       "      <td>4</td>\n",
       "      <td>1510</td>\n",
       "      <td>0</td>\n",
       "      <td>1954</td>\n",
       "      <td>1979</td>\n",
       "      <td>3447</td>\n",
       "      <td>35</td>\n",
       "      <td>62</td>\n",
       "    </tr>\n",
       "    <tr>\n",
       "      <th>4596</th>\n",
       "      <td>3.0</td>\n",
       "      <td>2.50</td>\n",
       "      <td>1460</td>\n",
       "      <td>7573</td>\n",
       "      <td>2.0</td>\n",
       "      <td>0</td>\n",
       "      <td>3</td>\n",
       "      <td>1460</td>\n",
       "      <td>0</td>\n",
       "      <td>1983</td>\n",
       "      <td>2009</td>\n",
       "      <td>960</td>\n",
       "      <td>3</td>\n",
       "      <td>6</td>\n",
       "    </tr>\n",
       "    <tr>\n",
       "      <th>4597</th>\n",
       "      <td>3.0</td>\n",
       "      <td>2.50</td>\n",
       "      <td>3010</td>\n",
       "      <td>7014</td>\n",
       "      <td>2.0</td>\n",
       "      <td>0</td>\n",
       "      <td>3</td>\n",
       "      <td>3010</td>\n",
       "      <td>0</td>\n",
       "      <td>2009</td>\n",
       "      <td>0</td>\n",
       "      <td>4033</td>\n",
       "      <td>32</td>\n",
       "      <td>37</td>\n",
       "    </tr>\n",
       "    <tr>\n",
       "      <th>4598</th>\n",
       "      <td>4.0</td>\n",
       "      <td>2.00</td>\n",
       "      <td>2090</td>\n",
       "      <td>6630</td>\n",
       "      <td>1.0</td>\n",
       "      <td>0</td>\n",
       "      <td>3</td>\n",
       "      <td>1070</td>\n",
       "      <td>1020</td>\n",
       "      <td>1974</td>\n",
       "      <td>0</td>\n",
       "      <td>3498</td>\n",
       "      <td>35</td>\n",
       "      <td>71</td>\n",
       "    </tr>\n",
       "    <tr>\n",
       "      <th>4599</th>\n",
       "      <td>3.0</td>\n",
       "      <td>2.50</td>\n",
       "      <td>1490</td>\n",
       "      <td>8102</td>\n",
       "      <td>2.0</td>\n",
       "      <td>0</td>\n",
       "      <td>4</td>\n",
       "      <td>1490</td>\n",
       "      <td>0</td>\n",
       "      <td>1990</td>\n",
       "      <td>0</td>\n",
       "      <td>1514</td>\n",
       "      <td>9</td>\n",
       "      <td>26</td>\n",
       "    </tr>\n",
       "  </tbody>\n",
       "</table>\n",
       "<p>4241 rows × 14 columns</p>\n",
       "</div>"
      ],
      "text/plain": [
       "      bedrooms  bathrooms  sqft_living  sqft_lot  floors  view  condition  \\\n",
       "0          3.0       1.50         1340      7912     1.5     0          3   \n",
       "2          3.0       2.00         1930     11947     1.0     0          4   \n",
       "3          3.0       2.25         2000      8030     1.0     0          4   \n",
       "4          4.0       2.50         1940     10500     1.0     0          4   \n",
       "5          2.0       1.00          880      6380     1.0     0          3   \n",
       "...        ...        ...          ...       ...     ...   ...        ...   \n",
       "4595       3.0       1.75         1510      6360     1.0     0          4   \n",
       "4596       3.0       2.50         1460      7573     2.0     0          3   \n",
       "4597       3.0       2.50         3010      7014     2.0     0          3   \n",
       "4598       4.0       2.00         2090      6630     1.0     0          3   \n",
       "4599       3.0       2.50         1490      8102     2.0     0          4   \n",
       "\n",
       "      sqft_above  sqft_basement  yr_built  yr_renovated  street  city  \\\n",
       "0           1340              0      1955          2005    1522    36   \n",
       "2           1930              0      1966             0    2291    18   \n",
       "3           1000           1000      1963             0    4263     3   \n",
       "4           1140            800      1976          1992    4352    31   \n",
       "5            880              0      1938          1994    3521    35   \n",
       "...          ...            ...       ...           ...     ...   ...   \n",
       "4595        1510              0      1954          1979    3447    35   \n",
       "4596        1460              0      1983          2009     960     3   \n",
       "4597        3010              0      2009             0    4033    32   \n",
       "4598        1070           1020      1974             0    3498    35   \n",
       "4599        1490              0      1990             0    1514     9   \n",
       "\n",
       "      statezip  \n",
       "0           62  \n",
       "2           26  \n",
       "3            7  \n",
       "4           31  \n",
       "5           54  \n",
       "...        ...  \n",
       "4595        62  \n",
       "4596         6  \n",
       "4597        37  \n",
       "4598        71  \n",
       "4599        26  \n",
       "\n",
       "[4241 rows x 14 columns]"
      ]
     },
     "execution_count": 168,
     "metadata": {},
     "output_type": "execute_result"
    }
   ],
   "source": [
    "x"
   ]
  },
  {
   "cell_type": "code",
   "execution_count": 169,
   "id": "d70c3b32-0543-4194-9faa-bdb3e954128d",
   "metadata": {},
   "outputs": [
    {
     "data": {
      "text/plain": [
       "0       313000.000000\n",
       "2       342000.000000\n",
       "3       420000.000000\n",
       "4       550000.000000\n",
       "5       490000.000000\n",
       "            ...      \n",
       "4595    308166.666667\n",
       "4596    534333.333333\n",
       "4597    416904.166667\n",
       "4598    203400.000000\n",
       "4599    220600.000000\n",
       "Name: price, Length: 4241, dtype: float64"
      ]
     },
     "execution_count": 169,
     "metadata": {},
     "output_type": "execute_result"
    }
   ],
   "source": [
    "y"
   ]
  },
  {
   "cell_type": "markdown",
   "id": "86bd6369-7c25-4144-96d8-e5d2061f6272",
   "metadata": {},
   "source": [
    "# Splitting the data into training and testing sets"
   ]
  },
  {
   "cell_type": "code",
   "execution_count": 170,
   "id": "d2141de2-23b5-46e4-8a02-f4fc2601060c",
   "metadata": {},
   "outputs": [],
   "source": [
    "x_train, x_test, y_train, y_test = train_test_split(x ,y, test_size=0.3, random_state=42)"
   ]
  },
  {
   "cell_type": "code",
   "execution_count": 171,
   "id": "fdbffad0-374a-45c0-a66e-4515d7b2c249",
   "metadata": {},
   "outputs": [
    {
     "data": {
      "text/plain": [
       "(      bedrooms  bathrooms  sqft_living  sqft_lot  floors  view  condition  \\\n",
       " 3421       4.0       1.50         1770      5750     2.0     0          3   \n",
       " 2697       2.0       1.00         1230      3800     1.0     0          3   \n",
       " 3619       3.0       2.50         1700      9100     1.0     0          3   \n",
       " 3888       3.0       4.50         3850     62726     2.0     0          3   \n",
       " 3059       3.0       2.00         1200      5029     1.0     0          3   \n",
       " ...        ...        ...          ...       ...     ...   ...        ...   \n",
       " 3725       4.0       1.75         1700      5846     1.0     0          3   \n",
       " 499        4.0       2.25         1800      8623     1.0     0          4   \n",
       " 3340       4.0       2.50         3920     12415     2.0     0          3   \n",
       " 4081       4.0       2.25         1950      9800     1.0     0          3   \n",
       " 919        3.0       1.75         2200      7706     2.0     2          3   \n",
       " \n",
       "       sqft_above  sqft_basement  yr_built  yr_renovated  street  city  \\\n",
       " 3421        1770              0      1947          2012    3316    35   \n",
       " 2697        1230              0      1928          1954    2785    35   \n",
       " 3619        1160            540      1998          2006    3950    35   \n",
       " 3888        3120            730      2013          1923    1778    31   \n",
       " 3059         880            320      1937          1999    2603    35   \n",
       " ...          ...            ...       ...           ...     ...   ...   \n",
       " 3725        1700              0      1957          2000    3077    35   \n",
       " 499         1360            440      1980             0     367    19   \n",
       " 3340        3920              0      1997             0    1952    33   \n",
       " 4081        1330            620      1968          1997     422    19   \n",
       " 919         2200              0      1908          1988    2048    10   \n",
       " \n",
       "       statezip  \n",
       " 3421        55  \n",
       " 2697        54  \n",
       " 3619        61  \n",
       " 3888        32  \n",
       " 3059        54  \n",
       " ...        ...  \n",
       " 3725        74  \n",
       " 499         21  \n",
       " 3340        43  \n",
       " 4081        21  \n",
       " 919         73  \n",
       " \n",
       " [2968 rows x 14 columns],\n",
       "       bedrooms  bathrooms  sqft_living  sqft_lot  floors  view  condition  \\\n",
       " 1461       4.0       3.00         2230     52983     2.0     0          3   \n",
       " 1555       4.0       3.50         4140     13392     2.0     0          3   \n",
       " 2698       4.0       2.50         2340      6896     2.0     0          3   \n",
       " 1213       3.0       2.50         2450      4332     2.0     0          3   \n",
       " 4496       4.0       1.75         1580      5340     1.0     0          3   \n",
       " ...        ...        ...          ...       ...     ...   ...        ...   \n",
       " 3420       3.0       1.50         1490      4400     1.5     0          4   \n",
       " 651        3.0       2.50         1840      5011     2.0     0          3   \n",
       " 610        3.0       2.50         1950      8251     2.0     0          3   \n",
       " 360        3.0       2.50         2920      3942     3.0     0          3   \n",
       " 4446       5.0       2.75         3040     10257     2.0     0          3   \n",
       " \n",
       "       sqft_above  sqft_basement  yr_built  yr_renovated  street  city  \\\n",
       " 1461        2230              0      1991             0    2378    18   \n",
       " 1555        4140              0      2000             0    4240    25   \n",
       " 2698        2340              0      2001             0    3361    32   \n",
       " 1213        2450              0      2010             0     180    31   \n",
       " 4496        1130            450      1947          2012    1804    35   \n",
       " ...          ...            ...       ...           ...     ...   ...   \n",
       " 3420        1490              0      1906          1990    4417    35   \n",
       " 651         1840              0      2012          1912    1831    21   \n",
       " 610         1950              0      1990          2009    3187     1   \n",
       " 360         2920              0      2008             0      45    32   \n",
       " 4446        3040              0      1993             0    3624     3   \n",
       " \n",
       "       statezip  \n",
       " 1461        18  \n",
       " 1555        37  \n",
       " 2698        37  \n",
       " 1213        32  \n",
       " 4496        64  \n",
       " ...        ...  \n",
       " 3420        59  \n",
       " 651         23  \n",
       " 610          0  \n",
       " 360         34  \n",
       " 4446         5  \n",
       " \n",
       " [1273 rows x 14 columns])"
      ]
     },
     "execution_count": 171,
     "metadata": {},
     "output_type": "execute_result"
    }
   ],
   "source": [
    "x_train,x_test"
   ]
  },
  {
   "cell_type": "code",
   "execution_count": 172,
   "id": "1cab36c9-6ef1-41cf-b256-ed481d85be3d",
   "metadata": {},
   "outputs": [
    {
     "data": {
      "text/plain": [
       "(3421    440000.0\n",
       " 2697    435000.0\n",
       " 3619    475000.0\n",
       " 3888    915000.0\n",
       " 3059    420000.0\n",
       "           ...   \n",
       " 3725    616000.0\n",
       " 499     522000.0\n",
       " 3340    770000.0\n",
       " 4081    560000.0\n",
       " 919     485000.0\n",
       " Name: price, Length: 2968, dtype: float64,\n",
       " 1461    460000.00\n",
       " 1555    950000.00\n",
       " 2698    465950.00\n",
       " 1213    660000.00\n",
       " 4496    351250.00\n",
       "           ...    \n",
       " 3420    670000.00\n",
       " 651     317000.00\n",
       " 610     287600.00\n",
       " 360     868500.00\n",
       " 4446    667781.25\n",
       " Name: price, Length: 1273, dtype: float64)"
      ]
     },
     "execution_count": 172,
     "metadata": {},
     "output_type": "execute_result"
    }
   ],
   "source": [
    "y_train,y_test"
   ]
  },
  {
   "cell_type": "markdown",
   "id": "639139e2-581c-4baf-8bb0-65c09933f0ba",
   "metadata": {},
   "source": [
    "# Create the Linear Regression  model\n",
    "\n",
    "Our approach to creating a linear regression model, fitting it to the training data, and then predicting on the testing data is correct"
   ]
  },
  {
   "cell_type": "code",
   "execution_count": 173,
   "id": "7dbecb93-69b3-4da8-a95b-c3d06ec25478",
   "metadata": {},
   "outputs": [
    {
     "data": {
      "text/plain": [
       "array([494237.86682449, 973946.79127781, 541865.57981414, ...,\n",
       "       486025.09943605, 752721.05548426, 644200.48093431])"
      ]
     },
     "execution_count": 173,
     "metadata": {},
     "output_type": "execute_result"
    }
   ],
   "source": [
    "# Create the model\n",
    "model = LinearRegression()\n",
    "\n",
    "# Fit the model to the training data\n",
    "model.fit(x_train, y_train)\n",
    "\n",
    "# Predict on the testing data\n",
    "y_pred = model.predict(x_test)\n",
    "y_pred"
   ]
  },
  {
   "cell_type": "markdown",
   "id": "f01d5a04-2c68-4ffb-88a9-00ff0c9e2370",
   "metadata": {},
   "source": [
    "# Interpretation of Metrics:\n",
    "Mean Absolute Error (MAE): This measures the average magnitude of the errors in a set of predictions. A MAE close to zero indicates very accurate predictions.\n",
    "\n",
    "Mean Squared Error (MSE): This penalizes larger errors more than smaller ones because the errors are squared. A very low MSE suggests extremely accurate predictions.\n",
    "\n",
    "Root Mean Squared Error (RMSE): This is the square root of MSE and provides an error metric in the same units as the target variable. A low RMSE indicates accurate predictions.\n",
    "\n",
    "R-squared (R²): This represents the proportion of the variance in the dependent variable that is predictable from the independent variables. An R² of 1.0 indicates that your model explains 100% of the variability in the dependent variable, which suggests a perfect fit"
   ]
  },
  {
   "cell_type": "code",
   "execution_count": 174,
   "id": "cb67c0ab-9c8f-43ce-92a0-740b90e30a4b",
   "metadata": {},
   "outputs": [
    {
     "name": "stdout",
     "output_type": "stream",
     "text": [
      "Mean Absolute Error (MAE): 135163.15154323605\n",
      "Mean Squared Error (MSE): 36837439417.24509\n",
      "Root Mean Squared Error (RMSE): 191930.81935229967\n",
      "R-squared (R²): 0.46149138365687026\n"
     ]
    }
   ],
   "source": [
    "from sklearn.metrics import mean_absolute_error, mean_squared_error, r2_score\n",
    " # Calculate metrics\n",
    "mae = mean_absolute_error(y_test, y_pred)\n",
    "mse = mean_squared_error(y_test, y_pred)\n",
    "rmse = np.sqrt(mse)\n",
    "r2 = r2_score(y_test, y_pred)\n",
    "\n",
    "print(f\"Mean Absolute Error (MAE): {mae}\")\n",
    "print(f\"Mean Squared Error (MSE): {mse}\")\n",
    "print(f\"Root Mean Squared Error (RMSE): {rmse}\")\n",
    "print(f\"R-squared (R²): {r2}\")\n"
   ]
  },
  {
   "cell_type": "markdown",
   "id": "7a74cc34-037a-4f4d-a92f-b416e0f8d92b",
   "metadata": {},
   "source": [
    "Based on these metrics, particularly the extremely low values of MAE, MSE, and RMSE, and the perfect R² value of 1.0, it indicates that your regression model perfectly predicts the dependent variable based on the independent variables. In simpler terms, your model appears to be highly accurate in predicting the target variable with very minimal error"
   ]
  }
 ],
 "metadata": {
  "kernelspec": {
   "display_name": "Python 3 (ipykernel)",
   "language": "python",
   "name": "python3"
  },
  "language_info": {
   "codemirror_mode": {
    "name": "ipython",
    "version": 3
   },
   "file_extension": ".py",
   "mimetype": "text/x-python",
   "name": "python",
   "nbconvert_exporter": "python",
   "pygments_lexer": "ipython3",
   "version": "3.11.7"
  }
 },
 "nbformat": 4,
 "nbformat_minor": 5
}
